{
 "cells": [
  {
   "cell_type": "code",
   "execution_count": null,
   "id": "e998ba67",
   "metadata": {},
   "outputs": [],
   "source": [
    "%pip install --qU langchain langchain_community langchain-huggingface openai faiss-cpu pandas tiktoken"
   ]
  },
  {
   "cell_type": "code",
   "execution_count": 1,
   "id": "8ea5fc6b",
   "metadata": {},
   "outputs": [],
   "source": [
    "import os\n",
    "import pickle\n",
    "from langchain.chat_models import ChatOpenAI\n",
    "from langchain.chains import ConversationalRetrievalChain, LLMChain\n",
    "from langchain.prompts import PromptTemplate\n",
    "from langchain.memory import ConversationSummaryBufferMemory\n",
    "from langchain.vectorstores import FAISS\n",
    "from langchain.embeddings import HuggingFaceEmbeddings"
   ]
  },
  {
   "cell_type": "code",
   "execution_count": 3,
   "id": "7c0ccf31",
   "metadata": {},
   "outputs": [],
   "source": [
    "# Set up the OpenAI API key\n",
    "os.environ[\"OPENAI_API_KEY\"] = NULL"
   ]
  },
  {
   "cell_type": "code",
   "execution_count": null,
   "id": "543f5ffb",
   "metadata": {},
   "outputs": [],
   "source": [
    "# Load the FAISS index\n",
    "\n",
    "# Initialize Sentence Transformer embeddings\n",
    "model_name = \"all-MiniLM-L6-v2\"  # You can choose a different model if you prefer\n",
    "embeddings = HuggingFaceEmbeddings(model_name=model_name)"
   ]
  },
  {
   "cell_type": "code",
   "execution_count": 6,
   "id": "d5f103dc",
   "metadata": {},
   "outputs": [],
   "source": [
    "vectorstore = FAISS.load_local(\"faiss_index\", embeddings, allow_dangerous_deserialization=True)\n",
    "# Create a retriever from the loaded vector store\n",
    "retriever = vectorstore.as_retriever(search_kwargs={\"k\": 5})"
   ]
  },
  {
   "cell_type": "code",
   "execution_count": 7,
   "id": "feae6700",
   "metadata": {},
   "outputs": [],
   "source": [
    "# Define a prompt template for course recommendations\n",
    "prompt_template = \"\"\"\n",
    "You are an AI-powered course recommendation expert with extensive knowledge of educational programs across various disciplines. Your primary goal is to provide personalized, high-quality course suggestions tailored to each user's unique interests, goals, and background.\n",
    "Do not retrieve course recommendations if the user hasn't specifically asked for them or is simply greeting the chatbot. \n",
    "In such general cases, focus on engaging the user by asking about their learning interests or what they are looking to explore.\n",
    "Conversation History:\n",
    "{chat_history}\n",
    "\n",
    "Current User Query:\n",
    "{question}\n",
    "\n",
    "Relevant Courses from Database:\n",
    "{context}\n",
    "\n",
    "Instructions for Crafting Your Response:\n",
    "1. Engagement and Tone:\n",
    "   - Begin with a warm, friendly greeting if this is a new interaction.\n",
    "   - Maintain a professional yet approachable tone throughout the conversation.\n",
    "   - If the user initiates casual chat, engage briefly before steering the conversation towards educational interests.\n",
    "2. Analysis and Recommendation:\n",
    "   - Carefully analyze the user's query and conversation history to understand their educational needs, interests, and any constraints.\n",
    "   - Select the most relevant courses from the provided context, prioritizing those with learning outcomes and syllabus content that closely match the user's requirements.\n",
    "3. Detailed Course Recommendations:\n",
    "   For each recommended course, provide:\n",
    "   - Course title and offering institution\n",
    "   - A concise overview of the course content\n",
    "   - Specific skills and knowledge to be gained (from \"What You Will Learn\")\n",
    "   - Key topics covered in the syllabus\n",
    "   - Course level, duration, and language of instruction\n",
    "   - Course ratings and reviews (if available)\n",
    "   - Direct URL to the course page (If available)\n",
    "4. Personalized Explanation:\n",
    "   - Clearly articulate how each recommended course aligns with the user's expressed interests and goals.\n",
    "   - Highlight specific aspects of the course that address the user's needs or previous queries.\n",
    "\n",
    "Remember to prioritize accuracy, relevance, and user-centricity in your recommendations. Your goal is to empower the user to make informed decisions about their educational path.\n",
    "\n",
    "Recommendation:\n",
    "\"\"\""
   ]
  },
  {
   "cell_type": "code",
   "execution_count": null,
   "id": "16ece3c3",
   "metadata": {},
   "outputs": [],
   "source": [
    "PROMPT = PromptTemplate(\n",
    "    template=prompt_template,\n",
    "    input_variables=[\"chat_history\", \"question\", \"context\"]\n",
    ")\n",
    "\n",
    "# Initialize the language model\n",
    "llm = ChatOpenAI(temperature=0.7, model_name=\"gpt-4-turbo\")"
   ]
  },
  {
   "cell_type": "code",
   "execution_count": null,
   "id": "a8b0fb31",
   "metadata": {},
   "outputs": [],
   "source": [
    "# Set up conversation memory with summarization\n",
    "memory = ConversationSummaryBufferMemory(llm=llm, max_token_limit=1000, memory_key=\"chat_history\", return_messages=True)"
   ]
  },
  {
   "cell_type": "code",
   "execution_count": 10,
   "id": "b37ab495",
   "metadata": {},
   "outputs": [],
   "source": [
    "# Create the conversational retrieval chain\n",
    "qa_chain = ConversationalRetrievalChain.from_llm(\n",
    "    llm=llm,\n",
    "    retriever=retriever,\n",
    "    memory=memory,\n",
    "    combine_docs_chain_kwargs={\"prompt\": PROMPT}\n",
    ")"
   ]
  },
  {
   "cell_type": "code",
   "execution_count": 11,
   "id": "93906749",
   "metadata": {},
   "outputs": [],
   "source": [
    "# Function to get course recommendations\n",
    "def get_course_recommendations(user_query: str):\n",
    "    result = qa_chain({\"question\": user_query})\n",
    "    return result[\"answer\"]"
   ]
  },
  {
   "cell_type": "code",
   "execution_count": null,
   "id": "4e73fd37",
   "metadata": {},
   "outputs": [],
   "source": [
    "# Example usage\n",
    "user_query1 = \"I'm an intermediate programmer with Python experience, looking to dive deep into machine learning for financial applications.\"\n",
    "recommendation1 = get_course_recommendations(user_query1)\n",
    "print(\"Recommendation 1:\", recommendation1)"
   ]
  },
  {
   "cell_type": "code",
   "execution_count": null,
   "id": "8d3bf062",
   "metadata": {},
   "outputs": [],
   "source": [
    "user_query2 = \"That sounds great! But I'm particularly interested in time series analysis and predictive modeling for stock markets. Any courses focusing on that?\"\n",
    "recommendation2 = get_course_recommendations(user_query2)\n",
    "print(\"\\nRecommendation 2:\", recommendation2)"
   ]
  },
  {
   "cell_type": "code",
   "execution_count": null,
   "id": "38c3c43e",
   "metadata": {},
   "outputs": [],
   "source": []
  },
  {
   "cell_type": "code",
   "execution_count": null,
   "id": "c504b7d8-4ca3-4a6f-b50b-6f9d5607c930",
   "metadata": {},
   "outputs": [],
   "source": []
  },
  {
   "cell_type": "code",
   "execution_count": null,
   "id": "1eebc006-aacb-45dd-9b59-84f469677993",
   "metadata": {},
   "outputs": [],
   "source": []
  }
 ],
 "metadata": {
  "kernelspec": {
   "display_name": "Python 3 (ipykernel)",
   "language": "python",
   "name": "python3"
  },
  "language_info": {
   "codemirror_mode": {
    "name": "ipython",
    "version": 3
   },
   "file_extension": ".py",
   "mimetype": "text/x-python",
   "name": "python",
   "nbconvert_exporter": "python",
   "pygments_lexer": "ipython3",
   "version": "3.12.4"
  }
 },
 "nbformat": 4,
 "nbformat_minor": 5
}
