{
 "cells": [
  {
   "cell_type": "code",
   "execution_count": 1,
   "metadata": {},
   "outputs": [],
   "source": [
    "%pip install transformers sentence-transformers langchain faiss-cpu langchain-community"
   ]
  },
  {
   "cell_type": "code",
   "execution_count": 2,
   "metadata": {},
   "outputs": [],
   "source": [
    "import pandas as pd\n",
    "from langchain.embeddings import HuggingFaceEmbeddings\n",
    "from langchain.vectorstores import FAISS"
   ]
  },
  {
   "cell_type": "code",
   "execution_count": 3,
   "metadata": {},
   "outputs": [
    {
     "name": "stderr",
     "output_type": "stream",
     "text": [
      "/tmp/ipykernel_13366/1985587213.py:3: LangChainDeprecationWarning: The class `HuggingFaceEmbeddings` was deprecated in LangChain 0.2.2 and will be removed in 1.0. An updated version of the class exists in the :class:`~langchain-huggingface package and should be used instead. To use it run `pip install -U :class:`~langchain-huggingface` and import as `from :class:`~langchain_huggingface import HuggingFaceEmbeddings``.\n",
      "  embeddings = HuggingFaceEmbeddings(model_name=model_name)\n",
      "/home/work/.local/lib/python3.10/site-packages/sentence_transformers/cross_encoder/CrossEncoder.py:13: TqdmExperimentalWarning: Using `tqdm.autonotebook.tqdm` in notebook mode. Use `tqdm.tqdm` instead to force console mode (e.g. in jupyter console)\n",
      "  from tqdm.autonotebook import tqdm, trange\n",
      "2024-10-07 12:43:29.118145: I tensorflow/core/util/port.cc:111] oneDNN custom operations are on. You may see slightly different numerical results due to floating-point round-off errors from different computation orders. To turn them off, set the environment variable `TF_ENABLE_ONEDNN_OPTS=0`.\n",
      "2024-10-07 12:43:29.156282: E tensorflow/compiler/xla/stream_executor/cuda/cuda_dnn.cc:9360] Unable to register cuDNN factory: Attempting to register factory for plugin cuDNN when one has already been registered\n",
      "2024-10-07 12:43:29.156315: E tensorflow/compiler/xla/stream_executor/cuda/cuda_fft.cc:609] Unable to register cuFFT factory: Attempting to register factory for plugin cuFFT when one has already been registered\n",
      "2024-10-07 12:43:29.156344: E tensorflow/compiler/xla/stream_executor/cuda/cuda_blas.cc:1537] Unable to register cuBLAS factory: Attempting to register factory for plugin cuBLAS when one has already been registered\n",
      "2024-10-07 12:43:29.164333: I tensorflow/core/platform/cpu_feature_guard.cc:183] This TensorFlow binary is optimized to use available CPU instructions in performance-critical operations.\n",
      "To enable the following instructions: SSE3 SSE4.1 SSE4.2 AVX, in other operations, rebuild TensorFlow with the appropriate compiler flags.\n",
      "/home/work/.local/lib/python3.10/site-packages/transformers/tokenization_utils_base.py:1617: FutureWarning: `clean_up_tokenization_spaces` was not set. It will be set to `True` by default. This behavior will be deprecated in transformers v4.45, and will be then set to `False` by default. For more details check this issue: https://github.com/huggingface/transformers/issues/31884\n",
      "  warnings.warn(\n"
     ]
    }
   ],
   "source": [
    "# Initialize Sentence Transformer embeddings\n",
    "model_name = \"all-MiniLM-L6-v2\" \n",
    "embeddings = HuggingFaceEmbeddings(model_name=model_name)"
   ]
  },
  {
   "cell_type": "code",
   "execution_count": 4,
   "metadata": {},
   "outputs": [
    {
     "data": {
      "text/html": [
       "<div>\n",
       "<style scoped>\n",
       "    .dataframe tbody tr th:only-of-type {\n",
       "        vertical-align: middle;\n",
       "    }\n",
       "\n",
       "    .dataframe tbody tr th {\n",
       "        vertical-align: top;\n",
       "    }\n",
       "\n",
       "    .dataframe thead th {\n",
       "        text-align: right;\n",
       "    }\n",
       "</style>\n",
       "<table border=\"1\" class=\"dataframe\">\n",
       "  <thead>\n",
       "    <tr style=\"text-align: right;\">\n",
       "      <th></th>\n",
       "      <th>title</th>\n",
       "      <th>sub_info</th>\n",
       "      <th>subject</th>\n",
       "      <th>rating</th>\n",
       "      <th>level</th>\n",
       "      <th>institution</th>\n",
       "      <th>about</th>\n",
       "      <th>what_you_will_learn</th>\n",
       "      <th>syllabus</th>\n",
       "      <th>course_url</th>\n",
       "      <th>skills_you_will_gain</th>\n",
       "    </tr>\n",
       "  </thead>\n",
       "  <tbody>\n",
       "    <tr>\n",
       "      <th>0</th>\n",
       "      <td>HarvardX: The Architectural Imagination</td>\n",
       "      <td>Learn fundamental principles of architecture —...</td>\n",
       "      <td>Architecture</td>\n",
       "      <td>NaN</td>\n",
       "      <td>Introductory</td>\n",
       "      <td>HarvardX</td>\n",
       "      <td>Architecture engages a culture’s deepest socia...</td>\n",
       "      <td>How to read, analyze, and understand different...</td>\n",
       "      <td>Part I: Form and History Part II: The Technolo...</td>\n",
       "      <td>https://www.edx.org/learn/architecture/harvard...</td>\n",
       "      <td>NaN</td>\n",
       "    </tr>\n",
       "    <tr>\n",
       "      <th>1</th>\n",
       "      <td>MITx: Sustainable Building Design</td>\n",
       "      <td>Learn and explore key scientific principles, t...</td>\n",
       "      <td>Architecture</td>\n",
       "      <td>NaN</td>\n",
       "      <td>Intermediate</td>\n",
       "      <td>MITx</td>\n",
       "      <td>Meeting growing global energy demand, while mi...</td>\n",
       "      <td>Understand the scientific principles underlyin...</td>\n",
       "      <td>Week 1 - Energy Use in Buildings Week 2 - Unde...</td>\n",
       "      <td>https://www.edx.org/learn/sustainable-developm...</td>\n",
       "      <td>NaN</td>\n",
       "    </tr>\n",
       "  </tbody>\n",
       "</table>\n",
       "</div>"
      ],
      "text/plain": [
       "                                     title  \\\n",
       "0  HarvardX: The Architectural Imagination   \n",
       "1        MITx: Sustainable Building Design   \n",
       "\n",
       "                                            sub_info       subject  rating  \\\n",
       "0  Learn fundamental principles of architecture —...  Architecture     NaN   \n",
       "1  Learn and explore key scientific principles, t...  Architecture     NaN   \n",
       "\n",
       "          level institution  \\\n",
       "0  Introductory    HarvardX   \n",
       "1  Intermediate        MITx   \n",
       "\n",
       "                                               about  \\\n",
       "0  Architecture engages a culture’s deepest socia...   \n",
       "1  Meeting growing global energy demand, while mi...   \n",
       "\n",
       "                                 what_you_will_learn  \\\n",
       "0  How to read, analyze, and understand different...   \n",
       "1  Understand the scientific principles underlyin...   \n",
       "\n",
       "                                            syllabus  \\\n",
       "0  Part I: Form and History Part II: The Technolo...   \n",
       "1  Week 1 - Energy Use in Buildings Week 2 - Unde...   \n",
       "\n",
       "                                          course_url skills_you_will_gain  \n",
       "0  https://www.edx.org/learn/architecture/harvard...                  NaN  \n",
       "1  https://www.edx.org/learn/sustainable-developm...                  NaN  "
      ]
     },
     "execution_count": 4,
     "metadata": {},
     "output_type": "execute_result"
    }
   ],
   "source": [
    "df = pd.read_csv(\"./dataset/combined_dataset.csv\")\n",
    "df.head(2)"
   ]
  },
  {
   "cell_type": "code",
   "execution_count": 5,
   "metadata": {},
   "outputs": [],
   "source": [
    "# Function to prepare data for embedding\n",
    "def prepare_data_for_embedding(row):\n",
    "    combined_info = f\"\"\"\n",
    "    Title: {row['title']}\n",
    "    Subject: {row['subject']}\n",
    "    Description: {row['sub_info'] if pd.notna(row['sub_info']) else 'no data'}\n",
    "    Level: {row['level'] if pd.notna(row['level']) else 'no data'}\n",
    "    Institution: {row['institution'] if pd.notna(row['institution']) else 'no data'}\n",
    "    About: {row['about'] if pd.notna(row['about']) else 'no data'}\n",
    "    What You Will Learn: {row['what_you_will_learn'] if pd.notna(row['what_you_will_learn']) else 'no data'}\n",
    "    Syllabus: {row['syllabus'] if pd.notna(row['syllabus']) else 'no data'}\n",
    "    Skills You Will Gain: {row['skills_you_will_gain'] if pd.notna(row['skills_you_will_gain']) else 'no data'}\n",
    "    Rating: {row['rating'] if pd.notna(row['rating']) else 'no data'}\n",
    "    Course URL: {row['course_url']}\n",
    "    \"\"\"\n",
    "    \n",
    "    return combined_info.strip()"
   ]
  },
  {
   "cell_type": "code",
   "execution_count": 6,
   "metadata": {},
   "outputs": [],
   "source": [
    "# Prepare data for embedding\n",
    "df['combined_info'] = df.apply(prepare_data_for_embedding, axis=1)"
   ]
  },
  {
   "cell_type": "code",
   "execution_count": 7,
   "metadata": {},
   "outputs": [
    {
     "data": {
      "text/plain": [
       "'Title: TokyoTechX: Japanese Architecture and Structural Design\\n    Subject: Architecture\\n    Description: In this revised course, fundamental and modern approaches to Japanese structural design will be explained using historical overviews and Tokyo-Tech’s campus buildings as case studies. Learners will be able to interpret and apply seismic design concepts like energy-dissipating braced frames, spine frames, seismic retrofit, seismic isolation and seismic design of spatial structures. Drawing from the instructor’s past 20 years of experience in design, considerations to sustainability, practical complexities and their solutions will be presented using the campus buildings as design examples with immersive 360-degree interactive videos. Learners will also get an insight into the architect-engineer collaboration through interviews with architectural professors.\\n    Level: Intermediate\\n    Institution: TokyoTechX\\n    About: In this revised course, in depth video lectures cover various concepts related to architecture and structural design are presented and are accompanied by detailed articles for further study. Modern approaches to seismic design and retrofit will be covered through case studies of some unique campus buildings in Tokyo. The course starts by introducing the progression of structural design from traditional timber buildings to the first steel high rise structures, metabolism movement and the evolution of modern spatial structures in Japan. Concepts like ‘Integrated Facade Engineering’ and ‘Grid-skin structures’ are discussed and illustrated through case studies of Tokyo-Tech campus buildings wherein seismic performance was enhanced sustainably while considering the environmental performance and aesthetics. In addition, a number of 360-degree videos of Tokyo Tech buildings provide learners with an immersive experience. The application of the grid-skin concept to RC buildings is discussed using shear walls and a two-layer framing system. Modern response control strategies to achieve immediate occupancy post-earthquake like rocking frame systems and seismic isolation in steel buildings are covered and practical considerations while adopting these systems are explained through the design of campus buildings. Grid shell systems and their unique seismic response characteristics are explained. The design of the metro station near campus was used to explain the practical and technical difficulties of designing lightweight roofs. Finally, the importance of collaboration between structural engineers and architects is discussed in a number of interviews between ETH Zurich’s Prof. L. Stalder, Tokyo Tech’s Prof. T. Takeuchi and Prof. Y. Tsukamoto.\\n    What You Will Learn: Evolution of seismic design concepts in Japan. Seismic retrofit approaches of steel and RC buildings.. What are the different seismic response control strategies?. Practical design applications of buckling-restrained braces, rocking frames and seismic isolation systems.. What is the integrated façade engineering concept and how to practically implement it in design?. How to use the concept of grid-skin structures to provide sustainable solutions?. Seismic response control strategies of spatial structures.. How the architect-engineer collaboration influences the design process?\\n    Syllabus: WEEK 1 : History of Japanese Structural Design WEEK 2 : Structural Design in Tokyo Tech Campus WEEK 3 : Concept of Grid-Skin Structures WEEK 4 : Spine Frames and Seismic Isolation WEEK 5 : Design of Spatial Structures\\n    Skills You Will Gain: no data\\n    Rating: no data\\n    Course URL: https://www.edx.org/learn/architecture/tokyo-institute-of-technology-japanese-architecture-and-structural-design?index=product&queryID=bf1ffea56b85f17d40c6958b4facd459&position=3&results_level=second-level-results&term=&objectID=course-c67e2df4-18d7-493c-a149-f4ddafb34112&campaign=Japanese+Architecture+and+Structural+Design&source=edX&product_category=course&placement_url=https%3A%2F%2Fwww.edx.org%2Fsearch'"
      ]
     },
     "execution_count": 7,
     "metadata": {},
     "output_type": "execute_result"
    }
   ],
   "source": [
    "df['combined_info'][2]"
   ]
  },
  {
   "cell_type": "code",
   "execution_count": 8,
   "metadata": {},
   "outputs": [],
   "source": [
    "# Create a vector store using FAISS\n",
    "texts = df['combined_info'].tolist()\n",
    "\n",
    "metadatas = df[['title', 'sub_info', 'rating', 'subject', 'level', 'institution', 'course_url']].to_dict('records')\n",
    "\n",
    "# Create the vector store\n",
    "vectorstore = FAISS.from_texts(texts, embeddings, metadatas=metadatas)"
   ]
  },
  {
   "cell_type": "code",
   "execution_count": 9,
   "metadata": {},
   "outputs": [
    {
     "name": "stdout",
     "output_type": "stream",
     "text": [
      "FAISS index saved to faiss_index directory\n"
     ]
    }
   ],
   "source": [
    "# Save the FAISS index\n",
    "vectorstore.save_local(\"faiss_index\")\n",
    "\n",
    "print(\"FAISS index saved to faiss_index directory\")"
   ]
  },
  {
   "cell_type": "code",
   "execution_count": null,
   "metadata": {},
   "outputs": [],
   "source": []
  },
  {
   "cell_type": "code",
   "execution_count": null,
   "metadata": {},
   "outputs": [],
   "source": []
  },
  {
   "cell_type": "code",
   "execution_count": null,
   "metadata": {},
   "outputs": [],
   "source": []
  }
 ],
 "metadata": {
  "kernelspec": {
   "display_name": "Python 3",
   "language": "python",
   "name": "python3"
  },
  "language_info": {
   "codemirror_mode": {
    "name": "ipython",
    "version": 3
   },
   "file_extension": ".py",
   "mimetype": "text/x-python",
   "name": "python",
   "nbconvert_exporter": "python",
   "pygments_lexer": "ipython3",
   "version": "3.10.12"
  }
 },
 "nbformat": 4,
 "nbformat_minor": 2
}
